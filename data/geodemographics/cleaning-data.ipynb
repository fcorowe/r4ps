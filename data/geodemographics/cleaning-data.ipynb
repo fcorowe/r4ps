{
 "cells": [
  {
   "cell_type": "code",
   "execution_count": 139,
   "id": "48409a74",
   "metadata": {},
   "outputs": [],
   "source": [
    "import matplotlib.pyplot as plt\n",
    "import numpy as np\n",
    "import math\n",
    "import pandas as pd\n",
    "import statsmodels.api as sm\n",
    "from scipy.special import gamma, loggamma, factorial\n",
    "import scipy.stats\n",
    "from scipy.interpolate import interp1d\n",
    "from matplotlib.ticker import AutoMinorLocator \n",
    "from matplotlib import rc, font_manager\n",
    "from matplotlib.lines import Line2D\n",
    "from matplotlib import colors as mcolors\n",
    "from mycolorpy import colorlist as mcp\n",
    "from matplotlib import legend_handler\n",
    "from mpl_toolkits.axes_grid1 import make_axes_locatable, axes_size\n",
    "import collections\n",
    "import matplotlib\n",
    "import shapely.geometry\n",
    "import shapely.ops \n",
    "from geopy.geocoders import Nominatim\n",
    "import geopandas as gpd\n",
    "import mapclassify\n",
    "import jenkspy\n",
    "import contextily as cx\n",
    "import os\n",
    "import rioxarray as rx\n",
    "import pyreadr\n",
    "from sklearn.preprocessing import StandardScaler\n",
    "from sklearn.cluster import KMeans\n",
    "from sklearn import metrics\n",
    "# import plots\n",
    "import seaborn as sns\n",
    "from prophet import Prophet\n",
    "import datetime\n",
    "import warnings\n",
    "warnings.filterwarnings(\"ignore\")"
   ]
  },
  {
   "cell_type": "code",
   "execution_count": 140,
   "id": "b08a7f4a",
   "metadata": {},
   "outputs": [],
   "source": [
    "wd = os.path.dirname(os.getcwd())"
   ]
  },
  {
   "cell_type": "code",
   "execution_count": 141,
   "id": "7267e02c",
   "metadata": {},
   "outputs": [],
   "source": [
    "lookup = pd.read_csv(\"./data/geodemographics/lookup-2011.csv\")"
   ]
  },
  {
   "cell_type": "code",
   "execution_count": 142,
   "id": "5327f129",
   "metadata": {},
   "outputs": [],
   "source": [
    "lookup_manchester = lookup[lookup['LAD11NM'].isin(['Bolton', 'Bury', 'Manchester', 'Oldham', 'Rochdale', \n",
    "                                                   'Salford', 'Stockport', 'Tameside', 'Trafford', 'Wigan'])].reset_index(drop=True)\n"
   ]
  },
  {
   "cell_type": "code",
   "execution_count": 143,
   "id": "cbc2b4f3",
   "metadata": {},
   "outputs": [
    {
     "data": {
      "text/plain": [
       "Index(['OA11CD', 'LSOA11CD', 'LSOA11NM', 'MSOA11CD', 'MSOA11NM', 'LAD11CD',\n",
       "       'LAD11NM', 'LAD11NMW', 'ObjectId'],\n",
       "      dtype='object')"
      ]
     },
     "execution_count": 143,
     "metadata": {},
     "output_type": "execute_result"
    }
   ],
   "source": [
    "lookup_manchester.columns"
   ]
  },
  {
   "cell_type": "code",
   "execution_count": 144,
   "id": "5736daf9",
   "metadata": {},
   "outputs": [],
   "source": [
    "lookup_london = lookup[lookup['LAD11NM'].isin(['Barking and Dagenham', 'Barnet', 'Bexley', 'Brent',\n",
    "                                              'Bromley', 'Camden', 'City of London', 'Croydon', 'Ealing',\n",
    "                                              'Enfield', 'Greenwich', 'Hackney', 'Hammersmith and Fulham',\n",
    "                                              'Haringey', 'Harrow', 'Havering', 'Hillingdon', 'Hounslow',\n",
    "                                              'Islington', 'Kensington and Chelsea', 'Kingston upon Thames',\n",
    "                                              'Lambeth', 'Lewisham', 'Merton', 'Newham', 'Redbridge',\n",
    "                                              'Richmond upon Thames', 'Southwark', 'Sutton', 'Tower Hamlets',\n",
    "                                              'Waltham Forest', 'Wandsworth', 'Westminster'])].reset_index(drop=True)"
   ]
  },
  {
   "cell_type": "code",
   "execution_count": 145,
   "id": "cc265a6c",
   "metadata": {},
   "outputs": [],
   "source": [
    "landcover = pd.read_csv(\"./data/geodemographics/lsoa_land_cover.csv\", index_col=0)"
   ]
  },
  {
   "cell_type": "code",
   "execution_count": 146,
   "id": "d7b611b5",
   "metadata": {},
   "outputs": [],
   "source": [
    "landcover_manchester = landcover[landcover['LSOA11CD'].isin(lookup_manchester['LSOA11CD'])].reset_index(drop=True)\n"
   ]
  },
  {
   "cell_type": "code",
   "execution_count": 147,
   "id": "4c903790",
   "metadata": {},
   "outputs": [],
   "source": [
    "landcover_london = landcover[landcover['LSOA11CD'].isin(lookup_london['LSOA11CD'])].reset_index(drop=True)\n"
   ]
  },
  {
   "cell_type": "code",
   "execution_count": 148,
   "id": "f133ff43",
   "metadata": {},
   "outputs": [],
   "source": [
    "sf_lsoas = gpd.read_file('./data/geodemographics/LSOA_Dec_2011_Boundaries.gpkg')"
   ]
  },
  {
   "cell_type": "code",
   "execution_count": 149,
   "id": "6f39d81d",
   "metadata": {},
   "outputs": [],
   "source": [
    "sf_lsoas_manchester = sf_lsoas[sf_lsoas['LSOA11CD'].isin(lookup_manchester['LSOA11CD'])].reset_index(drop=True)\n"
   ]
  },
  {
   "cell_type": "code",
   "execution_count": 150,
   "id": "58506b7c",
   "metadata": {},
   "outputs": [],
   "source": [
    "sf_lsoas_london = sf_lsoas[sf_lsoas['LSOA11CD'].isin(lookup_london['LSOA11CD'])].reset_index(drop=True)\n"
   ]
  },
  {
   "cell_type": "code",
   "execution_count": 151,
   "id": "ea24c062",
   "metadata": {},
   "outputs": [],
   "source": [
    "landcover_manchester_geometry = landcover_manchester.merge(sf_lsoas_manchester, on='LSOA11CD')\n",
    "landcover_manchester_geometry = gpd.GeoDataFrame(landcover_manchester_geometry)\n",
    "\n",
    "landcover_manchester_geometry = landcover_manchester_geometry.drop(['LSOA11NM_y'], axis=1)\n",
    "landcover_manchester_geometry = landcover_manchester_geometry.rename(columns={'LSOA11NM_x': 'LSOA11NM'})\n",
    "\n",
    "remove_columns = []\n",
    "for x in landcover_manchester_geometry:\n",
    "    if x[-5:-1] == '2000' or x[-5:-1] == '2006' or x[-5:-1] == '2018':  \n",
    "        remove_columns.append(x)\n",
    "        \n",
    "landcover_manchester_geometry = landcover_manchester_geometry.drop(remove_columns, axis=1)\n",
    "\n",
    "landcover_manchester_geometry.to_file('./data/geodemographics/manchester_land_cover_2011.gpkg')\n"
   ]
  },
  {
   "cell_type": "code",
   "execution_count": 152,
   "id": "17db039b",
   "metadata": {},
   "outputs": [],
   "source": [
    "landcover_london_geometry = landcover_london.merge(sf_lsoas_london, on='LSOA11CD')\n",
    "landcover_london_geometry = gpd.GeoDataFrame(landcover_london_geometry)\n",
    "\n",
    "landcover_london_geometry = landcover_london_geometry.drop(['LSOA11NM_y'], axis=1)\n",
    "landcover_london_geometry = landcover_london_geometry.rename(columns={'LSOA11NM_x': 'LSOA11NM'})\n",
    "\n",
    "remove_columns = []\n",
    "for x in landcover_london_geometry:\n",
    "    if x[-5:-1] == '2000' or x[-5:-1] == '2006' or x[-5:-1] == '2018':  \n",
    "        remove_columns.append(x)\n",
    "        \n",
    "landcover_london_geometry = landcover_london_geometry.drop(remove_columns, axis=1)\n",
    "\n",
    "landcover_london_geometry.to_file('./data/geodemographics/london_land_cover_2011.gpkg')\n"
   ]
  },
  {
   "cell_type": "code",
   "execution_count": null,
   "id": "00956502",
   "metadata": {},
   "outputs": [],
   "source": []
  }
 ],
 "metadata": {
  "kernelspec": {
   "display_name": "Python 3 (ipykernel)",
   "language": "python",
   "name": "python3"
  },
  "language_info": {
   "codemirror_mode": {
    "name": "ipython",
    "version": 3
   },
   "file_extension": ".py",
   "mimetype": "text/x-python",
   "name": "python",
   "nbconvert_exporter": "python",
   "pygments_lexer": "ipython3",
   "version": "3.10.9"
  }
 },
 "nbformat": 4,
 "nbformat_minor": 5
}
