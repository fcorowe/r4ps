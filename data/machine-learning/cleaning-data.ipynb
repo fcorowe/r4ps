{
 "cells": [
  {
   "cell_type": "code",
   "execution_count": 35,
   "id": "1b3e3a63",
   "metadata": {},
   "outputs": [],
   "source": [
    "import matplotlib.pyplot as plt\n",
    "import numpy as np\n",
    "import math\n",
    "import pandas as pd\n",
    "import statsmodels.api as sm\n",
    "from scipy.special import gamma, loggamma, factorial\n",
    "import scipy.stats\n",
    "from scipy.interpolate import interp1d\n",
    "from matplotlib.ticker import AutoMinorLocator \n",
    "from matplotlib import rc, font_manager\n",
    "from matplotlib.lines import Line2D\n",
    "from matplotlib import colors as mcolors\n",
    "from mycolorpy import colorlist as mcp\n",
    "from matplotlib import legend_handler\n",
    "from mpl_toolkits.axes_grid1 import make_axes_locatable, axes_size\n",
    "import collections\n",
    "import matplotlib\n",
    "import shapely.geometry\n",
    "from shapely.geometry import Point\n",
    "import shapely.ops \n",
    "from geopy.geocoders import Nominatim\n",
    "import geopandas as gpd\n",
    "import mapclassify\n",
    "import jenkspy\n",
    "import contextily as cx\n",
    "import os\n",
    "import rioxarray as rx\n",
    "import pyreadr\n",
    "from sklearn.preprocessing import StandardScaler\n",
    "from sklearn.cluster import KMeans\n",
    "from sklearn import metrics\n",
    "# import plots\n",
    "import seaborn as sns"
   ]
  },
  {
   "cell_type": "code",
   "execution_count": 41,
   "id": "897e2996",
   "metadata": {},
   "outputs": [],
   "source": [
    "df = pd.read_csv('./query2_rent_msoa_intzone.csv')\n",
    "df_lookup = pd.read_csv('./MSOA_(2011)_to_MSOA_(2021)_to_Local_Authority_District_(2022)_Lookup_for_England_and_Wales_-5379446518771769392.csv')\n"
   ]
  },
  {
   "cell_type": "code",
   "execution_count": 42,
   "id": "e7654e7f",
   "metadata": {},
   "outputs": [],
   "source": [
    "df = df[df['quarter']==4].reset_index(drop=True)\n",
    "df = df[df['year']==2016].reset_index(drop=True)\n",
    "df = df[(df['area_code']<'F') | (df['area_code']>'W')].reset_index(drop=True)"
   ]
  },
  {
   "cell_type": "code",
   "execution_count": 43,
   "id": "aedc7433",
   "metadata": {},
   "outputs": [],
   "source": [
    "area_code_21 = []\n",
    "for i in range(len(df)):\n",
    "    MSOA21CD = df_lookup.loc[np.where(df_lookup['MSOA11CD'] == df.loc[i,'area_code'])[0][0], 'MSOA21CD']\n",
    "    area_code_21.append(MSOA21CD)\n",
    "    \n",
    "df['area_code_21'] = area_code_21"
   ]
  },
  {
   "cell_type": "code",
   "execution_count": 45,
   "id": "c3ea711b",
   "metadata": {},
   "outputs": [],
   "source": [
    "df.to_csv('zoopla_mean_rent_msoa.csv', index=False)"
   ]
  },
  {
   "cell_type": "code",
   "execution_count": null,
   "id": "ecd96990",
   "metadata": {},
   "outputs": [],
   "source": []
  }
 ],
 "metadata": {
  "kernelspec": {
   "display_name": "Python 3 (ipykernel)",
   "language": "python",
   "name": "python3"
  },
  "language_info": {
   "codemirror_mode": {
    "name": "ipython",
    "version": 3
   },
   "file_extension": ".py",
   "mimetype": "text/x-python",
   "name": "python",
   "nbconvert_exporter": "python",
   "pygments_lexer": "ipython3",
   "version": "3.10.9"
  }
 },
 "nbformat": 4,
 "nbformat_minor": 5
}
