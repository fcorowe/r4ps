{
 "cells": [
  {
   "cell_type": "code",
   "execution_count": 16,
   "id": "5eea043f",
   "metadata": {},
   "outputs": [],
   "source": [
    "import matplotlib.pyplot as plt\n",
    "import numpy as np\n",
    "import math\n",
    "import pandas as pd\n",
    "import statsmodels.api as sm\n",
    "import statsmodels.formula.api as smf\n",
    "import scipy.stats\n",
    "import matplotlib.ticker as mticker\n",
    "from matplotlib import rc, font_manager\n",
    "from matplotlib.lines import Line2D\n",
    "from matplotlib.patches import Patch\n",
    "from matplotlib import colors as mcolors\n",
    "from matplotlib import legend_handler\n",
    "from mycolorpy import colorlist as mcp\n",
    "# import func_timeout\n",
    "# import pomegranate\n",
    "import networkx as nx\n",
    "import pickle as p\n",
    "import geopandas as gpd\n",
    "from shapely.geometry import Polygon, Point\n",
    "import rtree\n",
    "# import pygeos\n",
    "# import cloudpickle as cp\n"
   ]
  },
  {
   "cell_type": "code",
   "execution_count": 17,
   "id": "80ea890d",
   "metadata": {},
   "outputs": [],
   "source": [
    "G = pd.read_pickle('/Users/carmen/Downloads/London_Network.p')"
   ]
  },
  {
   "cell_type": "code",
   "execution_count": 45,
   "id": "fec96ba3",
   "metadata": {},
   "outputs": [
    {
     "data": {
      "text/html": [
       "<div>\n",
       "<style scoped>\n",
       "    .dataframe tbody tr th:only-of-type {\n",
       "        vertical-align: middle;\n",
       "    }\n",
       "\n",
       "    .dataframe tbody tr th {\n",
       "        vertical-align: top;\n",
       "    }\n",
       "\n",
       "    .dataframe thead th {\n",
       "        text-align: right;\n",
       "    }\n",
       "</style>\n",
       "<table border=\"1\" class=\"dataframe\">\n",
       "  <thead>\n",
       "    <tr style=\"text-align: right;\">\n",
       "      <th></th>\n",
       "      <th>node</th>\n",
       "      <th>name</th>\n",
       "      <th>geometry</th>\n",
       "    </tr>\n",
       "  </thead>\n",
       "  <tbody>\n",
       "    <tr>\n",
       "      <th>0</th>\n",
       "      <td>0</td>\n",
       "      <td>Harrow &amp; Wealdstone</td>\n",
       "      <td>POINT (-37229.310 6726723.882)</td>\n",
       "    </tr>\n",
       "    <tr>\n",
       "      <th>1</th>\n",
       "      <td>1</td>\n",
       "      <td>Kenton</td>\n",
       "      <td>POINT (-35293.627 6724865.317)</td>\n",
       "    </tr>\n",
       "    <tr>\n",
       "      <th>2</th>\n",
       "      <td>2</td>\n",
       "      <td>South Kenton</td>\n",
       "      <td>POINT (-34357.738 6722809.305)</td>\n",
       "    </tr>\n",
       "    <tr>\n",
       "      <th>3</th>\n",
       "      <td>3</td>\n",
       "      <td>North Wembley</td>\n",
       "      <td>POINT (-33867.303 6721441.960)</td>\n",
       "    </tr>\n",
       "    <tr>\n",
       "      <th>4</th>\n",
       "      <td>4</td>\n",
       "      <td>Wembley Central</td>\n",
       "      <td>POINT (-33037.281 6719630.592)</td>\n",
       "    </tr>\n",
       "    <tr>\n",
       "      <th>...</th>\n",
       "      <td>...</td>\n",
       "      <td>...</td>\n",
       "      <td>...</td>\n",
       "    </tr>\n",
       "    <tr>\n",
       "      <th>391</th>\n",
       "      <td>391</td>\n",
       "      <td>Royal Albert</td>\n",
       "      <td>POINT (5093.237 6711692.952)</td>\n",
       "    </tr>\n",
       "    <tr>\n",
       "      <th>392</th>\n",
       "      <td>392</td>\n",
       "      <td>Beckton Park</td>\n",
       "      <td>POINT (6117.620 6711781.589)</td>\n",
       "    </tr>\n",
       "    <tr>\n",
       "      <th>393</th>\n",
       "      <td>393</td>\n",
       "      <td>Cyprus</td>\n",
       "      <td>POINT (7114.135 6711734.167)</td>\n",
       "    </tr>\n",
       "    <tr>\n",
       "      <th>394</th>\n",
       "      <td>394</td>\n",
       "      <td>Gallions Reach</td>\n",
       "      <td>POINT (7997.932 6711842.626)</td>\n",
       "    </tr>\n",
       "    <tr>\n",
       "      <th>395</th>\n",
       "      <td>395</td>\n",
       "      <td>Beckton</td>\n",
       "      <td>POINT (6790.287 6712769.569)</td>\n",
       "    </tr>\n",
       "  </tbody>\n",
       "</table>\n",
       "<p>396 rows × 3 columns</p>\n",
       "</div>"
      ],
      "text/plain": [
       "     node                 name                        geometry\n",
       "0       0  Harrow & Wealdstone  POINT (-37229.310 6726723.882)\n",
       "1       1               Kenton  POINT (-35293.627 6724865.317)\n",
       "2       2         South Kenton  POINT (-34357.738 6722809.305)\n",
       "3       3        North Wembley  POINT (-33867.303 6721441.960)\n",
       "4       4      Wembley Central  POINT (-33037.281 6719630.592)\n",
       "..    ...                  ...                             ...\n",
       "391   391         Royal Albert    POINT (5093.237 6711692.952)\n",
       "392   392         Beckton Park    POINT (6117.620 6711781.589)\n",
       "393   393               Cyprus    POINT (7114.135 6711734.167)\n",
       "394   394       Gallions Reach    POINT (7997.932 6711842.626)\n",
       "395   395              Beckton    POINT (6790.287 6712769.569)\n",
       "\n",
       "[396 rows x 3 columns]"
      ]
     },
     "execution_count": 45,
     "metadata": {},
     "output_type": "execute_result"
    }
   ],
   "source": [
    "pos = nx.get_node_attributes(G, 'Station_coordinates')\n",
    "names = nx.get_node_attributes(G, 'Station_name').values()\n",
    "gdf_nodes = gpd.GeoDataFrame({'node': [i for i in range(len(pos))], 'name': [x for x in names], 'geometry': [Point(pos[i]) for i in range(len(pos))]}, crs='epsg:4326')\n",
    "gdf_nodes = gdf_nodes.to_crs('epsg:3857')\n",
    "\n",
    "gdf_nodes\n"
   ]
  },
  {
   "cell_type": "code",
   "execution_count": 46,
   "id": "2a1e7f1e",
   "metadata": {},
   "outputs": [
    {
     "data": {
      "text/plain": [
       "EdgeDataView([(0, 1, {'Line_main': 'London Overground', 'Line_color': '#EE7C0E'}), (0, 312, {'Line_main': 'London Overground', 'Line_color': '#EE7C0E'}), (1, 2, {'Line_main': 'London Overground', 'Line_color': '#EE7C0E'}), (2, 3, {'Line_main': 'London Overground', 'Line_color': '#EE7C0E'}), (3, 4, {'Line_main': 'London Overground', 'Line_color': '#EE7C0E'}), (4, 5, {'Line_main': 'London Overground', 'Line_color': '#EE7C0E'}), (5, 6, {'Line_main': 'London Overground', 'Line_color': '#EE7C0E'}), (6, 7, {'Line_main': 'London Overground', 'Line_color': '#EE7C0E'}), (7, 8, {'Line_main': 'London Overground', 'Line_color': '#EE7C0E'}), (7, 353, {'Line_main': 'London Overground', 'Line_color': '#EE7C0E'}), (7, 354, {'Line_main': 'London Overground', 'Line_color': '#EE7C0E'}), (7, 30, {'Line_main': 'London Overground', 'Line_color': '#EE7C0E'}), (8, 9, {'Line_main': 'Bakerloo', 'Line_color': '#B36305'}), (8, 311, {'Line_main': 'London Overground', 'Line_color': '#EE7C0E'}), (9, 10, {'Line_main': 'Bakerloo', 'Line_color': '#B36305'}), (10, 11, {'Line_main': 'Bakerloo', 'Line_color': '#B36305'}), (11, 12, {'Line_main': 'Bakerloo', 'Line_color': '#B36305'}), (12, 13, {'Line_main': 'Bakerloo', 'Line_color': '#B36305'}), (13, 14, {'Line_main': 'Bakerloo', 'Line_color': '#B36305'}), (13, 103, {'Line_main': 'District', 'Line_color': '#00782A'}), (13, 82, {'Line_main': 'District', 'Line_color': '#00782A'}), (14, 15, {'Line_main': 'Bakerloo', 'Line_color': '#B36305'}), (15, 16, {'Line_main': 'Bakerloo', 'Line_color': '#B36305'}), (16, 17, {'Line_main': 'Bakerloo', 'Line_color': '#B36305'}), (16, 82, {'Line_main': 'Hammersmith', 'Line_color': '#F3A9BB'}), (16, 83, {'Line_main': 'Metropolitan', 'Line_color': '#9B0056'}), (16, 156, {'Line_main': 'Jubilee', 'Line_color': '#A0A5A9'}), (16, 36, {'Line_main': 'Jubilee', 'Line_color': '#A0A5A9'}), (16, 154, {'Line_main': 'Metropolitan', 'Line_color': '#9B0056'}), (17, 18, {'Line_main': 'Bakerloo', 'Line_color': '#B36305'}), (18, 19, {'Line_main': 'Bakerloo', 'Line_color': '#B36305'}), (18, 36, {'Line_main': 'Central', 'Line_color': '#E32017'}), (18, 37, {'Line_main': 'Central', 'Line_color': '#E32017'}), (18, 157, {'Line_main': 'Victoria', 'Line_color': '#0098D4'}), (18, 194, {'Line_main': 'Victoria', 'Line_color': '#0098D4'}), (19, 20, {'Line_main': 'Bakerloo', 'Line_color': '#B36305'}), (19, 157, {'Line_main': 'Piccadilly', 'Line_color': '#003688'}), (19, 192, {'Line_main': 'Piccadilly', 'Line_color': '#003688'}), (20, 21, {'Line_main': 'Northern', 'Line_color': '#000000'}), (20, 192, {'Line_main': 'Northern', 'Line_color': '#000000'}), (21, 22, {'Line_main': 'Northern', 'Line_color': '#000000'}), (21, 95, {'Line_main': 'District', 'Line_color': '#00782A'}), (21, 96, {'Line_main': 'District', 'Line_color': '#00782A'}), (22, 23, {'Line_main': 'Bakerloo', 'Line_color': '#B36305'}), (22, 96, {'Line_main': 'Jubilee', 'Line_color': '#A0A5A9'}), (22, 158, {'Line_main': 'Jubilee', 'Line_color': '#A0A5A9'}), (22, 191, {'Line_main': 'Northern', 'Line_color': '#000000'}), (22, 41, {'Line_main': 'Waterloo & City', 'Line_color': '#95CDBA'}), (23, 24, {'Line_main': 'Bakerloo', 'Line_color': '#B36305'}), (24, 191, {'Line_main': 'Northern', 'Line_color': '#000000'}), (24, 228, {'Line_main': 'Northern', 'Line_color': '#000000'}), (25, 26, {'Line_main': 'Central', 'Line_color': '#E32017'}), (25, 104, {'Line_main': 'District', 'Line_color': '#00782A'}), (26, 27, {'Line_main': 'Central', 'Line_color': '#E32017'}), (27, 28, {'Line_main': 'Central', 'Line_color': '#E32017'}), (27, 69, {'Line_main': 'Central', 'Line_color': '#E32017'}), (28, 29, {'Line_main': 'Central', 'Line_color': '#E32017'}), (29, 30, {'Line_main': 'Central', 'Line_color': '#E32017'}), (30, 31, {'Line_main': 'Central', 'Line_color': '#E32017'}), (30, 132, {'Line_main': 'London Overground', 'Line_color': '#EE7C0E'}), (31, 32, {'Line_main': 'Central', 'Line_color': '#E32017'}), (32, 33, {'Line_main': 'Central', 'Line_color': '#E32017'}), (32, 102, {'Line_main': 'District', 'Line_color': '#00782A'}), (32, 103, {'Line_main': 'District', 'Line_color': '#00782A'}), (33, 34, {'Line_main': 'Central', 'Line_color': '#E32017'}), (34, 35, {'Line_main': 'Central', 'Line_color': '#E32017'}), (35, 36, {'Line_main': 'Central', 'Line_color': '#E32017'}), (36, 157, {'Line_main': 'Jubilee', 'Line_color': '#A0A5A9'}), (37, 38, {'Line_main': 'Central', 'Line_color': '#E32017'}), (37, 192, {'Line_main': 'Northern', 'Line_color': '#000000'}), (37, 193, {'Line_main': 'Northern', 'Line_color': '#000000'}), (38, 39, {'Line_main': 'Central', 'Line_color': '#E32017'}), (38, 245, {'Line_main': 'Piccadilly', 'Line_color': '#003688'}), (38, 246, {'Line_main': 'Piccadilly', 'Line_color': '#003688'}), (39, 40, {'Line_main': 'Central', 'Line_color': '#E32017'}), (40, 41, {'Line_main': 'Central', 'Line_color': '#E32017'}), (41, 42, {'Line_main': 'Central', 'Line_color': '#E32017'}), (41, 159, {'Line_main': 'Northern', 'Line_color': '#000000'}), (41, 88, {'Line_main': 'Northern', 'Line_color': '#000000'}), (41, 288, {'Line_main': 'DLR', 'Line_color': '#00A4A7'}), (42, 43, {'Line_main': 'London Overground', 'Line_color': '#EE7C0E'}), (42, 88, {'Line_main': 'Metropolitan', 'Line_color': '#9B0056'}), (42, 89, {'Line_main': 'Circle', 'Line_color': '#FFD300'}), (42, 114, {'Line_main': 'Hammersmith', 'Line_color': '#F3A9BB'}), (42, 177, {'Line_main': 'Metropolitan', 'Line_color': '#9B0056'}), (43, 44, {'Line_main': 'Central', 'Line_color': '#E32017'}), (43, 318, {'Line_main': 'London Overground', 'Line_color': '#EE7C0E'}), (44, 45, {'Line_main': 'Central', 'Line_color': '#E32017'}), (44, 116, {'Line_main': 'Hammersmith', 'Line_color': '#F3A9BB'}), (44, 117, {'Line_main': 'Hammersmith', 'Line_color': '#F3A9BB'}), (45, 46, {'Line_main': 'Central', 'Line_color': '#E32017'}), (45, 119, {'Line_main': 'Jubilee', 'Line_color': '#A0A5A9'}), (45, 341, {'Line_main': 'London Overground', 'Line_color': '#EE7C0E'}), (45, 377, {'Line_main': 'DLR', 'Line_color': '#00A4A7'}), (45, 383, {'Line_main': 'DLR', 'Line_color': '#00A4A7'}), (45, 384, {'Line_main': 'DLR', 'Line_color': '#00A4A7'}), (46, 47, {'Line_main': 'Central', 'Line_color': '#E32017'}), (47, 48, {'Line_main': 'Central', 'Line_color': '#E32017'}), (47, 56, {'Line_main': 'Central', 'Line_color': '#E32017'}), (48, 49, {'Line_main': 'Central', 'Line_color': '#E32017'}), (49, 50, {'Line_main': 'Central', 'Line_color': '#E32017'}), (50, 51, {'Line_main': 'Central', 'Line_color': '#E32017'}), (50, 70, {'Line_main': 'Central', 'Line_color': '#E32017'}), (51, 52, {'Line_main': 'Central', 'Line_color': '#E32017'}), (52, 53, {'Line_main': 'Central', 'Line_color': '#E32017'}), (53, 54, {'Line_main': 'Central', 'Line_color': '#E32017'}), (54, 55, {'Line_main': 'Central', 'Line_color': '#E32017'}), (56, 57, {'Line_main': 'Central', 'Line_color': '#E32017'}), (57, 58, {'Line_main': 'Central', 'Line_color': '#E32017'}), (58, 59, {'Line_main': 'Central', 'Line_color': '#E32017'}), (59, 60, {'Line_main': 'Central', 'Line_color': '#E32017'}), (60, 61, {'Line_main': 'Central', 'Line_color': '#E32017'}), (61, 62, {'Line_main': 'Central', 'Line_color': '#E32017'}), (62, 72, {'Line_main': 'Central', 'Line_color': '#E32017'}), (63, 64, {'Line_main': 'Central', 'Line_color': '#E32017'}), (64, 65, {'Line_main': 'Central', 'Line_color': '#E32017'}), (65, 66, {'Line_main': 'Central', 'Line_color': '#E32017'}), (66, 67, {'Line_main': 'Central', 'Line_color': '#E32017'}), (67, 68, {'Line_main': 'Central', 'Line_color': '#E32017'}), (68, 69, {'Line_main': 'Central', 'Line_color': '#E32017'}), (70, 71, {'Line_main': 'Central', 'Line_color': '#E32017'}), (71, 72, {'Line_main': 'Central', 'Line_color': '#E32017'}), (73, 74, {'Line_main': 'Hammersmith', 'Line_color': '#F3A9BB'}), (74, 75, {'Line_main': 'Hammersmith', 'Line_color': '#F3A9BB'}), (75, 76, {'Line_main': 'Hammersmith', 'Line_color': '#F3A9BB'}), (76, 77, {'Line_main': 'Hammersmith', 'Line_color': '#F3A9BB'}), (77, 78, {'Line_main': 'Hammersmith', 'Line_color': '#F3A9BB'}), (78, 79, {'Line_main': 'Hammersmith', 'Line_color': '#F3A9BB'}), (79, 80, {'Line_main': 'Hammersmith', 'Line_color': '#F3A9BB'}), (80, 81, {'Line_main': 'Hammersmith', 'Line_color': '#F3A9BB'}), (81, 82, {'Line_main': 'Hammersmith', 'Line_color': '#F3A9BB'}), (83, 84, {'Line_main': 'Metropolitan', 'Line_color': '#9B0056'}), (84, 85, {'Line_main': 'Metropolitan', 'Line_color': '#9B0056'}), (85, 86, {'Line_main': 'Metropolitan', 'Line_color': '#9B0056'}), (85, 230, {'Line_main': 'Northern', 'Line_color': '#000000'}), (85, 195, {'Line_main': 'Victoria', 'Line_color': '#0098D4'}), (85, 246, {'Line_main': 'Piccadilly', 'Line_color': '#003688'}), (85, 247, {'Line_main': 'Piccadilly', 'Line_color': '#003688'}), (85, 268, {'Line_main': 'Victoria', 'Line_color': '#0098D4'}), (86, 87, {'Line_main': 'Metropolitan', 'Line_color': '#9B0056'}), (87, 88, {'Line_main': 'Metropolitan', 'Line_color': '#9B0056'}), (88, 229, {'Line_main': 'Northern', 'Line_color': '#000000'}), (89, 90, {'Line_main': 'Circle', 'Line_color': '#FFD300'}), (90, 91, {'Line_main': 'District', 'Line_color': '#00782A'}), (90, 114, {'Line_main': 'District', 'Line_color': '#00782A'}), (91, 92, {'Line_main': 'District', 'Line_color': '#00782A'}), (92, 93, {'Line_main': 'District', 'Line_color': '#00782A'}), (93, 94, {'Line_main': 'District', 'Line_color': '#00782A'}), (94, 95, {'Line_main': 'District', 'Line_color': '#00782A'}), (96, 97, {'Line_main': 'District', 'Line_color': '#00782A'}), (96, 157, {'Line_main': 'Jubilee', 'Line_color': '#A0A5A9'}), (97, 98, {'Line_main': 'District', 'Line_color': '#00782A'}), (98, 99, {'Line_main': 'District', 'Line_color': '#00782A'}), (98, 267, {'Line_main': 'Victoria', 'Line_color': '#0098D4'}), (98, 157, {'Line_main': 'Victoria', 'Line_color': '#0098D4'}), (99, 100, {'Line_main': 'District', 'Line_color': '#00782A'}), (100, 101, {'Line_main': 'Piccadilly', 'Line_color': '#003688'}), (100, 243, {'Line_main': 'Piccadilly', 'Line_color': '#003688'}), (101, 102, {'Line_main': 'Circle', 'Line_color': '#FFD300'}), (101, 113, {'Line_main': 'Piccadilly', 'Line_color': '#003688'}), (102, 113, {'Line_main': 'District', 'Line_color': '#00782A'}), (104, 105, {'Line_main': 'Piccadilly', 'Line_color': '#003688'}), (104, 264, {'Line_main': 'Piccadilly', 'Line_color': '#003688'}), (105, 106, {'Line_main': 'District', 'Line_color': '#00782A'}), (105, 241, {'Line_main': 'Piccadilly', 'Line_color': '#003688'}), (105, 242, {'Line_main': 'Piccadilly', 'Line_color': '#003688'}), (105, 107, {'Line_main': 'Piccadilly', 'Line_color': '#003688'}), (106, 107, {'Line_main': 'District', 'Line_color': '#00782A'}), (107, 108, {'Line_main': 'District', 'Line_color': '#00782A'}), (107, 135, {'Line_main': 'District', 'Line_color': '#00782A'}), (107, 110, {'Line_main': 'Piccadilly', 'Line_color': '#003688'}), (108, 109, {'Line_main': 'District', 'Line_color': '#00782A'}), (109, 110, {'Line_main': 'District', 'Line_color': '#00782A'}), (110, 111, {'Line_main': 'Piccadilly', 'Line_color': '#003688'}), (110, 242, {'Line_main': 'Piccadilly', 'Line_color': '#003688'}), (111, 112, {'Line_main': 'District', 'Line_color': '#00782A'}), (111, 113, {'Line_main': 'Piccadilly', 'Line_color': '#003688'}), (112, 113, {'Line_main': 'District', 'Line_color': '#00782A'}), (113, 132, {'Line_main': 'District', 'Line_color': '#00782A'}), (113, 143, {'Line_main': 'District', 'Line_color': '#00782A'}), (114, 115, {'Line_main': 'Hammersmith', 'Line_color': '#F3A9BB'}), (115, 116, {'Line_main': 'Hammersmith', 'Line_color': '#F3A9BB'}), (115, 287, {'Line_main': 'London Overground', 'Line_color': '#EE7C0E'}), (115, 288, {'Line_main': 'London Overground', 'Line_color': '#EE7C0E'}), (117, 118, {'Line_main': 'Hammersmith', 'Line_color': '#F3A9BB'}), (118, 119, {'Line_main': 'Hammersmith', 'Line_color': '#F3A9BB'}), (119, 120, {'Line_main': 'Hammersmith', 'Line_color': '#F3A9BB'}), (119, 164, {'Line_main': 'Jubilee', 'Line_color': '#A0A5A9'}), (119, 385, {'Line_main': 'DLR', 'Line_color': '#00A4A7'}), (119, 386, {'Line_main': 'DLR', 'Line_color': '#00A4A7'}), (120, 121, {'Line_main': 'Hammersmith', 'Line_color': '#F3A9BB'}), (121, 122, {'Line_main': 'Hammersmith', 'Line_color': '#F3A9BB'}), (122, 123, {'Line_main': 'Hammersmith', 'Line_color': '#F3A9BB'}), (123, 124, {'Line_main': 'District', 'Line_color': '#00782A'}), (123, 282, {'Line_main': 'London Overground', 'Line_color': '#EE7C0E'}), (124, 125, {'Line_main': 'District', 'Line_color': '#00782A'}), (125, 126, {'Line_main': 'District', 'Line_color': '#00782A'}), (126, 127, {'Line_main': 'District', 'Line_color': '#00782A'}), (127, 128, {'Line_main': 'District', 'Line_color': '#00782A'}), (128, 129, {'Line_main': 'District', 'Line_color': '#00782A'}), (129, 130, {'Line_main': 'District', 'Line_color': '#00782A'}), (130, 131, {'Line_main': 'District', 'Line_color': '#00782A'}), (131, 340, {'Line_main': 'London Overground', 'Line_color': '#EE7C0E'}), (132, 143, {'Line_main': 'London Overground', 'Line_color': '#EE7C0E'}), (133, 134, {'Line_main': 'London Overground', 'Line_color': '#EE7C0E'}), (134, 135, {'Line_main': 'London Overground', 'Line_color': '#EE7C0E'}), (135, 355, {'Line_main': 'London Overground', 'Line_color': '#EE7C0E'}), (136, 137, {'Line_main': 'District', 'Line_color': '#00782A'}), (137, 138, {'Line_main': 'District', 'Line_color': '#00782A'}), (138, 139, {'Line_main': 'District', 'Line_color': '#00782A'}), (139, 140, {'Line_main': 'District', 'Line_color': '#00782A'}), (140, 141, {'Line_main': 'District', 'Line_color': '#00782A'}), (141, 142, {'Line_main': 'District', 'Line_color': '#00782A'}), (142, 143, {'Line_main': 'District', 'Line_color': '#00782A'}), (143, 356, {'Line_main': 'London Overground', 'Line_color': '#EE7C0E'}), (144, 145, {'Line_main': 'Jubilee', 'Line_color': '#A0A5A9'}), (145, 146, {'Line_main': 'Jubilee', 'Line_color': '#A0A5A9'}), (146, 147, {'Line_main': 'Jubilee', 'Line_color': '#A0A5A9'}), (147, 148, {'Line_main': 'Jubilee', 'Line_color': '#A0A5A9'}), (148, 149, {'Line_main': 'Jubilee', 'Line_color': '#A0A5A9'}), (148, 176, {'Line_main': 'Metropolitan', 'Line_color': '#9B0056'}), (148, 151, {'Line_main': 'Metropolitan', 'Line_color': '#9B0056'}), (149, 150, {'Line_main': 'Jubilee', 'Line_color': '#A0A5A9'}), (150, 151, {'Line_main': 'Jubilee', 'Line_color': '#A0A5A9'}), (151, 152, {'Line_main': 'Jubilee', 'Line_color': '#A0A5A9'}), (151, 154, {'Line_main': 'Metropolitan', 'Line_color': '#9B0056'}), (152, 153, {'Line_main': 'Jubilee', 'Line_color': '#A0A5A9'}), (153, 154, {'Line_main': 'Jubilee', 'Line_color': '#A0A5A9'}), (153, 350, {'Line_main': 'London Overground', 'Line_color': '#EE7C0E'}), (153, 351, {'Line_main': 'London Overground', 'Line_color': '#EE7C0E'}), (154, 155, {'Line_main': 'Jubilee', 'Line_color': '#A0A5A9'}), (155, 156, {'Line_main': 'Jubilee', 'Line_color': '#A0A5A9'}), (157, 244, {'Line_main': 'Piccadilly', 'Line_color': '#003688'}), (158, 159, {'Line_main': 'Jubilee', 'Line_color': '#A0A5A9'}), (159, 160, {'Line_main': 'Jubilee', 'Line_color': '#A0A5A9'}), (159, 228, {'Line_main': 'Northern', 'Line_color': '#000000'}), (160, 161, {'Line_main': 'Jubilee', 'Line_color': '#A0A5A9'}), (161, 162, {'Line_main': 'Jubilee', 'Line_color': '#A0A5A9'}), (161, 290, {'Line_main': 'London Overground', 'Line_color': '#EE7C0E'}), (161, 291, {'Line_main': 'London Overground', 'Line_color': '#EE7C0E'}), (162, 163, {'Line_main': 'Jubilee', 'Line_color': '#A0A5A9'}), (162, 358, {'Line_main': 'DLR', 'Line_color': '#00A4A7'}), (162, 359, {'Line_main': 'DLR', 'Line_color': '#00A4A7'}), (162, 382, {'Line_main': 'DLR', 'Line_color': '#00A4A7'}), (163, 164, {'Line_main': 'Jubilee', 'Line_color': '#A0A5A9'}), (164, 371, {'Line_main': 'DLR', 'Line_color': '#00A4A7'}), (164, 372, {'Line_main': 'DLR', 'Line_color': '#00A4A7'}), (164, 386, {'Line_main': 'DLR', 'Line_color': '#00A4A7'}), (164, 388, {'Line_main': 'DLR', 'Line_color': '#00A4A7'}), (165, 166, {'Line_main': 'Metropolitan', 'Line_color': '#9B0056'}), (166, 167, {'Line_main': 'Metropolitan', 'Line_color': '#9B0056'}), (166, 178, {'Line_main': 'Metropolitan', 'Line_color': '#9B0056'}), (167, 168, {'Line_main': 'Metropolitan', 'Line_color': '#9B0056'}), (168, 169, {'Line_main': 'Metropolitan', 'Line_color': '#9B0056'}), (169, 170, {'Line_main': 'Metropolitan', 'Line_color': '#9B0056'}), (169, 188, {'Line_main': 'Metropolitan', 'Line_color': '#9B0056'}), (170, 171, {'Line_main': 'Metropolitan', 'Line_color': '#9B0056'}), (171, 172, {'Line_main': 'Metropolitan', 'Line_color': '#9B0056'}), (172, 173, {'Line_main': 'Metropolitan', 'Line_color': '#9B0056'}), (173, 174, {'Line_main': 'Metropolitan', 'Line_color': '#9B0056'}), (174, 175, {'Line_main': 'Metropolitan', 'Line_color': '#9B0056'}), (174, 186, {'Line_main': 'Metropolitan', 'Line_color': '#9B0056'}), (175, 176, {'Line_main': 'Metropolitan', 'Line_color': '#9B0056'}), (179, 180, {'Line_main': 'Piccadilly', 'Line_color': '#003688'}), (180, 181, {'Line_main': 'Piccadilly', 'Line_color': '#003688'}), (181, 182, {'Line_main': 'Piccadilly', 'Line_color': '#003688'}), (182, 183, {'Line_main': 'Piccadilly', 'Line_color': '#003688'}), (183, 184, {'Line_main': 'Piccadilly', 'Line_color': '#003688'}), (184, 185, {'Line_main': 'Piccadilly', 'Line_color': '#003688'}), (185, 186, {'Line_main': 'Metropolitan', 'Line_color': '#9B0056'}), (185, 259, {'Line_main': 'Piccadilly', 'Line_color': '#003688'}), (187, 188, {'Line_main': 'Metropolitan', 'Line_color': '#9B0056'}), (189, 190, {'Line_main': 'Northern', 'Line_color': '#000000'}), (190, 191, {'Line_main': 'Northern', 'Line_color': '#000000'}), (191, 227, {'Line_main': 'Northern', 'Line_color': '#000000'}), (192, 245, {'Line_main': 'Piccadilly', 'Line_color': '#003688'}), (193, 194, {'Line_main': 'Northern', 'Line_color': '#000000'}), (194, 195, {'Line_main': 'Victoria', 'Line_color': '#0098D4'}), (195, 196, {'Line_main': 'Northern', 'Line_color': '#000000'}), (195, 197, {'Line_main': 'Northern', 'Line_color': '#000000'}), (195, 309, {'Line_main': 'London Overground', 'Line_color': '#EE7C0E'}), (196, 197, {'Line_main': 'Northern', 'Line_color': '#000000'}), (197, 198, {'Line_main': 'Northern', 'Line_color': '#000000'}), (197, 207, {'Line_main': 'Northern', 'Line_color': '#000000'}), (198, 199, {'Line_main': 'Northern', 'Line_color': '#000000'}), (199, 200, {'Line_main': 'Northern', 'Line_color': '#000000'}), (200, 201, {'Line_main': 'Northern', 'Line_color': '#000000'}), (201, 202, {'Line_main': 'Northern', 'Line_color': '#000000'}), (202, 203, {'Line_main': 'Northern', 'Line_color': '#000000'}), (203, 204, {'Line_main': 'Northern', 'Line_color': '#000000'}), (204, 205, {'Line_main': 'Northern', 'Line_color': '#000000'}), (205, 206, {'Line_main': 'Northern', 'Line_color': '#000000'}), (207, 208, {'Line_main': 'Northern', 'Line_color': '#000000'}), (208, 209, {'Line_main': 'Northern', 'Line_color': '#000000'}), (209, 210, {'Line_main': 'Northern', 'Line_color': '#000000'}), (210, 211, {'Line_main': 'Northern', 'Line_color': '#000000'}), (211, 212, {'Line_main': 'Northern', 'Line_color': '#000000'}), (212, 213, {'Line_main': 'Northern', 'Line_color': '#000000'}), (212, 231, {'Line_main': 'Northern', 'Line_color': '#000000'}), (213, 214, {'Line_main': 'Northern', 'Line_color': '#000000'}), (214, 215, {'Line_main': 'Northern', 'Line_color': '#000000'}), (215, 216, {'Line_main': 'Northern', 'Line_color': '#000000'}), (217, 218, {'Line_main': 'Northern', 'Line_color': '#000000'}), (218, 219, {'Line_main': 'Northern', 'Line_color': '#000000'}), (219, 220, {'Line_main': 'Northern', 'Line_color': '#000000'}), (220, 221, {'Line_main': 'Northern', 'Line_color': '#000000'}), (221, 222, {'Line_main': 'Northern', 'Line_color': '#000000'}), (222, 223, {'Line_main': 'Northern', 'Line_color': '#000000'}), (223, 224, {'Line_main': 'Northern', 'Line_color': '#000000'}), (224, 225, {'Line_main': 'Northern', 'Line_color': '#000000'}), (225, 226, {'Line_main': 'Northern', 'Line_color': '#000000'}), (226, 227, {'Line_main': 'Northern', 'Line_color': '#000000'}), (226, 265, {'Line_main': 'Victoria', 'Line_color': '#0098D4'}), (226, 266, {'Line_main': 'Victoria', 'Line_color': '#0098D4'}), (229, 230, {'Line_main': 'Northern', 'Line_color': '#000000'}), (232, 233, {'Line_main': 'Piccadilly', 'Line_color': '#003688'}), (233, 234, {'Line_main': 'Piccadilly', 'Line_color': '#003688'}), (234, 235, {'Line_main': 'Piccadilly', 'Line_color': '#003688'}), (235, 236, {'Line_main': 'Piccadilly', 'Line_color': '#003688'}), (236, 237, {'Line_main': 'Piccadilly', 'Line_color': '#003688'}), (237, 238, {'Line_main': 'Piccadilly', 'Line_color': '#003688'}), (238, 239, {'Line_main': 'Piccadilly', 'Line_color': '#003688'}), (239, 240, {'Line_main': 'Piccadilly', 'Line_color': '#003688'}), (240, 241, {'Line_main': 'Piccadilly', 'Line_color': '#003688'}), (243, 244, {'Line_main': 'Piccadilly', 'Line_color': '#003688'}), (247, 248, {'Line_main': 'Piccadilly', 'Line_color': '#003688'}), (248, 249, {'Line_main': 'Piccadilly', 'Line_color': '#003688'}), (249, 250, {'Line_main': 'Piccadilly', 'Line_color': '#003688'}), (250, 251, {'Line_main': 'Piccadilly', 'Line_color': '#003688'}), (250, 268, {'Line_main': 'Victoria', 'Line_color': '#0098D4'}), (250, 269, {'Line_main': 'Victoria', 'Line_color': '#0098D4'}), (251, 252, {'Line_main': 'Piccadilly', 'Line_color': '#003688'}), (252, 253, {'Line_main': 'Piccadilly', 'Line_color': '#003688'}), (253, 254, {'Line_main': 'Piccadilly', 'Line_color': '#003688'}), (254, 255, {'Line_main': 'Piccadilly', 'Line_color': '#003688'}), (255, 256, {'Line_main': 'Piccadilly', 'Line_color': '#003688'}), (256, 257, {'Line_main': 'Piccadilly', 'Line_color': '#003688'}), (257, 258, {'Line_main': 'Piccadilly', 'Line_color': '#003688'}), (259, 260, {'Line_main': 'Piccadilly', 'Line_color': '#003688'}), (260, 261, {'Line_main': 'Piccadilly', 'Line_color': '#003688'}), (261, 262, {'Line_main': 'Piccadilly', 'Line_color': '#003688'}), (262, 263, {'Line_main': 'Piccadilly', 'Line_color': '#003688'}), (263, 264, {'Line_main': 'Piccadilly', 'Line_color': '#003688'}), (266, 267, {'Line_main': 'Victoria', 'Line_color': '#0098D4'}), (268, 283, {'Line_main': 'London Overground', 'Line_color': '#EE7C0E'}), (268, 345, {'Line_main': 'London Overground', 'Line_color': '#EE7C0E'}), (269, 270, {'Line_main': 'Victoria', 'Line_color': '#0098D4'}), (269, 328, {'Line_main': 'London Overground', 'Line_color': '#EE7C0E'}), (269, 329, {'Line_main': 'London Overground', 'Line_color': '#EE7C0E'}), (270, 271, {'Line_main': 'Victoria', 'Line_color': '#0098D4'}), (271, 272, {'Line_main': 'Victoria', 'Line_color': '#0098D4'}), (271, 277, {'Line_main': 'London Overground', 'Line_color': '#EE7C0E'}), (271, 278, {'Line_main': 'London Overground', 'Line_color': '#EE7C0E'}), (272, 322, {'Line_main': 'London Overground', 'Line_color': '#EE7C0E'}), (272, 323, {'Line_main': 'London Overground', 'Line_color': '#EE7C0E'}), (273, 274, {'Line_main': 'London Overground', 'Line_color': '#EE7C0E'}), (273, 347, {'Line_main': 'London Overground', 'Line_color': '#EE7C0E'}), (273, 349, {'Line_main': 'London Overground', 'Line_color': '#EE7C0E'}), (274, 275, {'Line_main': 'London Overground', 'Line_color': '#EE7C0E'}), (275, 276, {'Line_main': 'London Overground', 'Line_color': '#EE7C0E'}), (276, 277, {'Line_main': 'London Overground', 'Line_color': '#EE7C0E'}), (278, 279, {'Line_main': 'London Overground', 'Line_color': '#EE7C0E'}), (279, 280, {'Line_main': 'London Overground', 'Line_color': '#EE7C0E'}), (280, 281, {'Line_main': 'London Overground', 'Line_color': '#EE7C0E'}), (281, 282, {'Line_main': 'London Overground', 'Line_color': '#EE7C0E'}), (283, 284, {'Line_main': 'London Overground', 'Line_color': '#EE7C0E'}), (283, 344, {'Line_main': 'London Overground', 'Line_color': '#EE7C0E'}), (284, 285, {'Line_main': 'London Overground', 'Line_color': '#EE7C0E'}), (285, 286, {'Line_main': 'London Overground', 'Line_color': '#EE7C0E'}), (286, 287, {'Line_main': 'London Overground', 'Line_color': '#EE7C0E'}), (288, 289, {'Line_main': 'London Overground', 'Line_color': '#EE7C0E'}), (288, 357, {'Line_main': 'DLR', 'Line_color': '#00A4A7'}), (288, 387, {'Line_main': 'DLR', 'Line_color': '#00A4A7'}), (289, 290, {'Line_main': 'London Overground', 'Line_color': '#EE7C0E'}), (291, 292, {'Line_main': 'London Overground', 'Line_color': '#EE7C0E'}), (291, 293, {'Line_main': 'London Overground', 'Line_color': '#EE7C0E'}), (291, 303, {'Line_main': 'London Overground', 'Line_color': '#EE7C0E'}), (293, 294, {'Line_main': 'London Overground', 'Line_color': '#EE7C0E'}), (294, 295, {'Line_main': 'London Overground', 'Line_color': '#EE7C0E'}), (295, 296, {'Line_main': 'London Overground', 'Line_color': '#EE7C0E'}), (296, 297, {'Line_main': 'London Overground', 'Line_color': '#EE7C0E'}), (297, 298, {'Line_main': 'London Overground', 'Line_color': '#EE7C0E'}), (297, 299, {'Line_main': 'London Overground', 'Line_color': '#EE7C0E'}), (299, 300, {'Line_main': 'London Overground', 'Line_color': '#EE7C0E'}), (300, 301, {'Line_main': 'London Overground', 'Line_color': '#EE7C0E'}), (301, 302, {'Line_main': 'London Overground', 'Line_color': '#EE7C0E'}), (303, 304, {'Line_main': 'London Overground', 'Line_color': '#EE7C0E'}), (304, 305, {'Line_main': 'London Overground', 'Line_color': '#EE7C0E'}), (305, 306, {'Line_main': 'London Overground', 'Line_color': '#EE7C0E'}), (306, 307, {'Line_main': 'London Overground', 'Line_color': '#EE7C0E'}), (307, 308, {'Line_main': 'London Overground', 'Line_color': '#EE7C0E'}), (308, 356, {'Line_main': 'London Overground', 'Line_color': '#EE7C0E'}), (309, 310, {'Line_main': 'London Overground', 'Line_color': '#EE7C0E'}), (310, 311, {'Line_main': 'London Overground', 'Line_color': '#EE7C0E'}), (312, 313, {'Line_main': 'London Overground', 'Line_color': '#EE7C0E'}), (313, 314, {'Line_main': 'London Overground', 'Line_color': '#EE7C0E'}), (314, 315, {'Line_main': 'London Overground', 'Line_color': '#EE7C0E'}), (315, 316, {'Line_main': 'London Overground', 'Line_color': '#EE7C0E'}), (316, 317, {'Line_main': 'London Overground', 'Line_color': '#EE7C0E'}), (318, 319, {'Line_main': 'London Overground', 'Line_color': '#EE7C0E'}), (319, 320, {'Line_main': 'London Overground', 'Line_color': '#EE7C0E'}), (320, 321, {'Line_main': 'London Overground', 'Line_color': '#EE7C0E'}), (320, 326, {'Line_main': 'London Overground', 'Line_color': '#EE7C0E'}), (321, 322, {'Line_main': 'London Overground', 'Line_color': '#EE7C0E'}), (323, 324, {'Line_main': 'London Overground', 'Line_color': '#EE7C0E'}), (324, 325, {'Line_main': 'London Overground', 'Line_color': '#EE7C0E'}), (326, 327, {'Line_main': 'London Overground', 'Line_color': '#EE7C0E'}), (327, 328, {'Line_main': 'London Overground', 'Line_color': '#EE7C0E'}), (329, 330, {'Line_main': 'London Overground', 'Line_color': '#EE7C0E'}), (330, 331, {'Line_main': 'London Overground', 'Line_color': '#EE7C0E'}), (331, 332, {'Line_main': 'London Overground', 'Line_color': '#EE7C0E'}), (332, 333, {'Line_main': 'London Overground', 'Line_color': '#EE7C0E'}), (332, 335, {'Line_main': 'London Overground', 'Line_color': '#EE7C0E'}), (333, 334, {'Line_main': 'London Overground', 'Line_color': '#EE7C0E'}), (335, 336, {'Line_main': 'London Overground', 'Line_color': '#EE7C0E'}), (336, 337, {'Line_main': 'London Overground', 'Line_color': '#EE7C0E'}), (337, 338, {'Line_main': 'London Overground', 'Line_color': '#EE7C0E'}), (339, 340, {'Line_main': 'London Overground', 'Line_color': '#EE7C0E'}), (341, 342, {'Line_main': 'London Overground', 'Line_color': '#EE7C0E'}), (342, 343, {'Line_main': 'London Overground', 'Line_color': '#EE7C0E'}), (343, 344, {'Line_main': 'London Overground', 'Line_color': '#EE7C0E'}), (345, 346, {'Line_main': 'London Overground', 'Line_color': '#EE7C0E'}), (346, 347, {'Line_main': 'London Overground', 'Line_color': '#EE7C0E'}), (347, 348, {'Line_main': 'London Overground', 'Line_color': '#EE7C0E'}), (348, 349, {'Line_main': 'London Overground', 'Line_color': '#EE7C0E'}), (349, 350, {'Line_main': 'London Overground', 'Line_color': '#EE7C0E'}), (351, 352, {'Line_main': 'London Overground', 'Line_color': '#EE7C0E'}), (352, 353, {'Line_main': 'London Overground', 'Line_color': '#EE7C0E'}), (354, 355, {'Line_main': 'London Overground', 'Line_color': '#EE7C0E'}), (357, 358, {'Line_main': 'DLR', 'Line_color': '#00A4A7'}), (358, 369, {'Line_main': 'DLR', 'Line_color': '#00A4A7'}), (359, 360, {'Line_main': 'DLR', 'Line_color': '#00A4A7'}), (360, 361, {'Line_main': 'DLR', 'Line_color': '#00A4A7'}), (361, 362, {'Line_main': 'DLR', 'Line_color': '#00A4A7'}), (362, 363, {'Line_main': 'DLR', 'Line_color': '#00A4A7'}), (363, 364, {'Line_main': 'DLR', 'Line_color': '#00A4A7'}), (364, 365, {'Line_main': 'DLR', 'Line_color': '#00A4A7'}), (365, 366, {'Line_main': 'DLR', 'Line_color': '#00A4A7'}), (366, 367, {'Line_main': 'DLR', 'Line_color': '#00A4A7'}), (367, 368, {'Line_main': 'DLR', 'Line_color': '#00A4A7'}), (369, 370, {'Line_main': 'DLR', 'Line_color': '#00A4A7'}), (369, 381, {'Line_main': 'DLR', 'Line_color': '#00A4A7'}), (369, 382, {'Line_main': 'DLR', 'Line_color': '#00A4A7'}), (370, 371, {'Line_main': 'DLR', 'Line_color': '#00A4A7'}), (372, 373, {'Line_main': 'DLR', 'Line_color': '#00A4A7'}), (373, 374, {'Line_main': 'DLR', 'Line_color': '#00A4A7'}), (374, 375, {'Line_main': 'DLR', 'Line_color': '#00A4A7'}), (375, 376, {'Line_main': 'DLR', 'Line_color': '#00A4A7'}), (377, 378, {'Line_main': 'DLR', 'Line_color': '#00A4A7'}), (378, 379, {'Line_main': 'DLR', 'Line_color': '#00A4A7'}), (379, 380, {'Line_main': 'DLR', 'Line_color': '#00A4A7'}), (380, 381, {'Line_main': 'DLR', 'Line_color': '#00A4A7'}), (384, 385, {'Line_main': 'DLR', 'Line_color': '#00A4A7'}), (388, 389, {'Line_main': 'DLR', 'Line_color': '#00A4A7'}), (389, 390, {'Line_main': 'DLR', 'Line_color': '#00A4A7'}), (390, 391, {'Line_main': 'DLR', 'Line_color': '#00A4A7'}), (391, 392, {'Line_main': 'DLR', 'Line_color': '#00A4A7'}), (392, 393, {'Line_main': 'DLR', 'Line_color': '#00A4A7'}), (393, 394, {'Line_main': 'DLR', 'Line_color': '#00A4A7'}), (394, 395, {'Line_main': 'DLR', 'Line_color': '#00A4A7'})])"
      ]
     },
     "execution_count": 46,
     "metadata": {},
     "output_type": "execute_result"
    }
   ],
   "source": [
    "G.edges(data=True)"
   ]
  },
  {
   "cell_type": "code",
   "execution_count": null,
   "id": "370bce52",
   "metadata": {},
   "outputs": [],
   "source": []
  }
 ],
 "metadata": {
  "kernelspec": {
   "display_name": "Python 3 (ipykernel)",
   "language": "python",
   "name": "python3"
  },
  "language_info": {
   "codemirror_mode": {
    "name": "ipython",
    "version": 3
   },
   "file_extension": ".py",
   "mimetype": "text/x-python",
   "name": "python",
   "nbconvert_exporter": "python",
   "pygments_lexer": "ipython3",
   "version": "3.10.9"
  }
 },
 "nbformat": 4,
 "nbformat_minor": 5
}
